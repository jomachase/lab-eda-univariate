{
 "cells": [
  {
   "cell_type": "code",
   "execution_count": 1,
   "id": "e0dde9ce-cf74-4944-89b0-dc2971dba58c",
   "metadata": {},
   "outputs": [],
   "source": [
    "import pandas as pd\n",
    "import matplotlib.pyplot as plt\n",
    "import seaborn as sns\n",
    "import numpy as np\n",
    "\n",
    "%matplotlib inline"
   ]
  },
  {
   "cell_type": "code",
   "execution_count": 4,
   "id": "13f51852-093f-413a-940a-21d8b912916a",
   "metadata": {},
   "outputs": [
    {
     "data": {
      "text/html": [
       "<div>\n",
       "<style scoped>\n",
       "    .dataframe tbody tr th:only-of-type {\n",
       "        vertical-align: middle;\n",
       "    }\n",
       "\n",
       "    .dataframe tbody tr th {\n",
       "        vertical-align: top;\n",
       "    }\n",
       "\n",
       "    .dataframe thead th {\n",
       "        text-align: right;\n",
       "    }\n",
       "</style>\n",
       "<table border=\"1\" class=\"dataframe\">\n",
       "  <thead>\n",
       "    <tr style=\"text-align: right;\">\n",
       "      <th></th>\n",
       "      <th>uid</th>\n",
       "      <th>asin</th>\n",
       "      <th>title</th>\n",
       "      <th>stars</th>\n",
       "      <th>reviews</th>\n",
       "      <th>price</th>\n",
       "      <th>isBestSeller</th>\n",
       "      <th>boughtInLastMonth</th>\n",
       "      <th>category</th>\n",
       "    </tr>\n",
       "  </thead>\n",
       "  <tbody>\n",
       "    <tr>\n",
       "      <th>0</th>\n",
       "      <td>1</td>\n",
       "      <td>B09B96TG33</td>\n",
       "      <td>Echo Dot (5th generation, 2022 release) | Big ...</td>\n",
       "      <td>4.7</td>\n",
       "      <td>15308</td>\n",
       "      <td>21.99</td>\n",
       "      <td>False</td>\n",
       "      <td>0</td>\n",
       "      <td>Hi-Fi Speakers</td>\n",
       "    </tr>\n",
       "    <tr>\n",
       "      <th>1</th>\n",
       "      <td>2</td>\n",
       "      <td>B01HTH3C8S</td>\n",
       "      <td>Anker Soundcore mini, Super-Portable Bluetooth...</td>\n",
       "      <td>4.7</td>\n",
       "      <td>98099</td>\n",
       "      <td>23.99</td>\n",
       "      <td>True</td>\n",
       "      <td>0</td>\n",
       "      <td>Hi-Fi Speakers</td>\n",
       "    </tr>\n",
       "    <tr>\n",
       "      <th>2</th>\n",
       "      <td>3</td>\n",
       "      <td>B09B8YWXDF</td>\n",
       "      <td>Echo Dot (5th generation, 2022 release) | Big ...</td>\n",
       "      <td>4.7</td>\n",
       "      <td>15308</td>\n",
       "      <td>21.99</td>\n",
       "      <td>False</td>\n",
       "      <td>0</td>\n",
       "      <td>Hi-Fi Speakers</td>\n",
       "    </tr>\n",
       "    <tr>\n",
       "      <th>3</th>\n",
       "      <td>4</td>\n",
       "      <td>B09B8T5VGV</td>\n",
       "      <td>Echo Dot with clock (5th generation, 2022 rele...</td>\n",
       "      <td>4.7</td>\n",
       "      <td>7205</td>\n",
       "      <td>31.99</td>\n",
       "      <td>False</td>\n",
       "      <td>0</td>\n",
       "      <td>Hi-Fi Speakers</td>\n",
       "    </tr>\n",
       "    <tr>\n",
       "      <th>4</th>\n",
       "      <td>5</td>\n",
       "      <td>B09WX6QD65</td>\n",
       "      <td>Introducing Echo Pop | Full sound compact Wi-F...</td>\n",
       "      <td>4.6</td>\n",
       "      <td>1881</td>\n",
       "      <td>17.99</td>\n",
       "      <td>False</td>\n",
       "      <td>0</td>\n",
       "      <td>Hi-Fi Speakers</td>\n",
       "    </tr>\n",
       "    <tr>\n",
       "      <th>...</th>\n",
       "      <td>...</td>\n",
       "      <td>...</td>\n",
       "      <td>...</td>\n",
       "      <td>...</td>\n",
       "      <td>...</td>\n",
       "      <td>...</td>\n",
       "      <td>...</td>\n",
       "      <td>...</td>\n",
       "      <td>...</td>\n",
       "    </tr>\n",
       "    <tr>\n",
       "      <th>2443646</th>\n",
       "      <td>2828589</td>\n",
       "      <td>B0CHSD7P2Q</td>\n",
       "      <td>Motorbike Armour, Motorbike Clothing, Cycling ...</td>\n",
       "      <td>0.0</td>\n",
       "      <td>0</td>\n",
       "      <td>22.34</td>\n",
       "      <td>False</td>\n",
       "      <td>0</td>\n",
       "      <td>Motorbike Clothing</td>\n",
       "    </tr>\n",
       "    <tr>\n",
       "      <th>2443647</th>\n",
       "      <td>2828590</td>\n",
       "      <td>B0B7B8FNBQ</td>\n",
       "      <td>PROFIRST Waterproof Motorcycle 2 Piece Ladies ...</td>\n",
       "      <td>0.0</td>\n",
       "      <td>0</td>\n",
       "      <td>97.99</td>\n",
       "      <td>False</td>\n",
       "      <td>0</td>\n",
       "      <td>Motorbike Clothing</td>\n",
       "    </tr>\n",
       "    <tr>\n",
       "      <th>2443648</th>\n",
       "      <td>2828591</td>\n",
       "      <td>B0BD5FL5FB</td>\n",
       "      <td>Men’s Motorcycle Motorbike Biker Trousers Kevl...</td>\n",
       "      <td>0.0</td>\n",
       "      <td>0</td>\n",
       "      <td>52.99</td>\n",
       "      <td>False</td>\n",
       "      <td>0</td>\n",
       "      <td>Motorbike Clothing</td>\n",
       "    </tr>\n",
       "    <tr>\n",
       "      <th>2443649</th>\n",
       "      <td>2828592</td>\n",
       "      <td>B008OYLL4I</td>\n",
       "      <td>Texpeed Mens Motorcycle Motorbike Biker Trouse...</td>\n",
       "      <td>4.3</td>\n",
       "      <td>404</td>\n",
       "      <td>79.99</td>\n",
       "      <td>False</td>\n",
       "      <td>0</td>\n",
       "      <td>Motorbike Clothing</td>\n",
       "    </tr>\n",
       "    <tr>\n",
       "      <th>2443650</th>\n",
       "      <td>2828593</td>\n",
       "      <td>B08P3W9B3T</td>\n",
       "      <td>RIDEX CJ223 Motorcycle Motorbike Jacket Armour...</td>\n",
       "      <td>4.5</td>\n",
       "      <td>34</td>\n",
       "      <td>53.99</td>\n",
       "      <td>False</td>\n",
       "      <td>0</td>\n",
       "      <td>Motorbike Clothing</td>\n",
       "    </tr>\n",
       "  </tbody>\n",
       "</table>\n",
       "<p>2443651 rows × 9 columns</p>\n",
       "</div>"
      ],
      "text/plain": [
       "             uid        asin  \\\n",
       "0              1  B09B96TG33   \n",
       "1              2  B01HTH3C8S   \n",
       "2              3  B09B8YWXDF   \n",
       "3              4  B09B8T5VGV   \n",
       "4              5  B09WX6QD65   \n",
       "...          ...         ...   \n",
       "2443646  2828589  B0CHSD7P2Q   \n",
       "2443647  2828590  B0B7B8FNBQ   \n",
       "2443648  2828591  B0BD5FL5FB   \n",
       "2443649  2828592  B008OYLL4I   \n",
       "2443650  2828593  B08P3W9B3T   \n",
       "\n",
       "                                                     title  stars  reviews  \\\n",
       "0        Echo Dot (5th generation, 2022 release) | Big ...    4.7    15308   \n",
       "1        Anker Soundcore mini, Super-Portable Bluetooth...    4.7    98099   \n",
       "2        Echo Dot (5th generation, 2022 release) | Big ...    4.7    15308   \n",
       "3        Echo Dot with clock (5th generation, 2022 rele...    4.7     7205   \n",
       "4        Introducing Echo Pop | Full sound compact Wi-F...    4.6     1881   \n",
       "...                                                    ...    ...      ...   \n",
       "2443646  Motorbike Armour, Motorbike Clothing, Cycling ...    0.0        0   \n",
       "2443647  PROFIRST Waterproof Motorcycle 2 Piece Ladies ...    0.0        0   \n",
       "2443648  Men’s Motorcycle Motorbike Biker Trousers Kevl...    0.0        0   \n",
       "2443649  Texpeed Mens Motorcycle Motorbike Biker Trouse...    4.3      404   \n",
       "2443650  RIDEX CJ223 Motorcycle Motorbike Jacket Armour...    4.5       34   \n",
       "\n",
       "         price  isBestSeller  boughtInLastMonth            category  \n",
       "0        21.99         False                  0      Hi-Fi Speakers  \n",
       "1        23.99          True                  0      Hi-Fi Speakers  \n",
       "2        21.99         False                  0      Hi-Fi Speakers  \n",
       "3        31.99         False                  0      Hi-Fi Speakers  \n",
       "4        17.99         False                  0      Hi-Fi Speakers  \n",
       "...        ...           ...                ...                 ...  \n",
       "2443646  22.34         False                  0  Motorbike Clothing  \n",
       "2443647  97.99         False                  0  Motorbike Clothing  \n",
       "2443648  52.99         False                  0  Motorbike Clothing  \n",
       "2443649  79.99         False                  0  Motorbike Clothing  \n",
       "2443650  53.99         False                  0  Motorbike Clothing  \n",
       "\n",
       "[2443651 rows x 9 columns]"
      ]
     },
     "execution_count": 4,
     "metadata": {},
     "output_type": "execute_result"
    }
   ],
   "source": [
    "df = pd.read_csv(\"/Users/jomachase/Documents/Ironhack/Labs/Week5/Day1/amz_uk_price_prediction_dataset.csv\")\n",
    "df"
   ]
  },
  {
   "cell_type": "code",
   "execution_count": null,
   "id": "3ba4efbc-d6eb-4c0b-89ae-b0d0ebec5fd7",
   "metadata": {},
   "outputs": [],
   "source": [
    "Part 1: Understanding Product Categories"
   ]
  },
  {
   "cell_type": "code",
   "execution_count": 9,
   "id": "601f1f35-dba0-4d7e-a360-26434e8aab25",
   "metadata": {},
   "outputs": [
    {
     "data": {
      "text/html": [
       "<div>\n",
       "<style scoped>\n",
       "    .dataframe tbody tr th:only-of-type {\n",
       "        vertical-align: middle;\n",
       "    }\n",
       "\n",
       "    .dataframe tbody tr th {\n",
       "        vertical-align: top;\n",
       "    }\n",
       "\n",
       "    .dataframe thead th {\n",
       "        text-align: right;\n",
       "    }\n",
       "</style>\n",
       "<table border=\"1\" class=\"dataframe\">\n",
       "  <thead>\n",
       "    <tr style=\"text-align: right;\">\n",
       "      <th></th>\n",
       "      <th>uid</th>\n",
       "      <th>asin</th>\n",
       "      <th>title</th>\n",
       "      <th>stars</th>\n",
       "      <th>reviews</th>\n",
       "      <th>price</th>\n",
       "      <th>isBestSeller</th>\n",
       "      <th>boughtInLastMonth</th>\n",
       "      <th>category</th>\n",
       "    </tr>\n",
       "  </thead>\n",
       "  <tbody>\n",
       "    <tr>\n",
       "      <th>0</th>\n",
       "      <td>1</td>\n",
       "      <td>B09B96TG33</td>\n",
       "      <td>Echo Dot (5th generation, 2022 release) | Big ...</td>\n",
       "      <td>4.7</td>\n",
       "      <td>15308</td>\n",
       "      <td>21.99</td>\n",
       "      <td>False</td>\n",
       "      <td>0</td>\n",
       "      <td>Hi-Fi Speakers</td>\n",
       "    </tr>\n",
       "    <tr>\n",
       "      <th>1</th>\n",
       "      <td>2</td>\n",
       "      <td>B01HTH3C8S</td>\n",
       "      <td>Anker Soundcore mini, Super-Portable Bluetooth...</td>\n",
       "      <td>4.7</td>\n",
       "      <td>98099</td>\n",
       "      <td>23.99</td>\n",
       "      <td>True</td>\n",
       "      <td>0</td>\n",
       "      <td>Hi-Fi Speakers</td>\n",
       "    </tr>\n",
       "    <tr>\n",
       "      <th>2</th>\n",
       "      <td>3</td>\n",
       "      <td>B09B8YWXDF</td>\n",
       "      <td>Echo Dot (5th generation, 2022 release) | Big ...</td>\n",
       "      <td>4.7</td>\n",
       "      <td>15308</td>\n",
       "      <td>21.99</td>\n",
       "      <td>False</td>\n",
       "      <td>0</td>\n",
       "      <td>Hi-Fi Speakers</td>\n",
       "    </tr>\n",
       "    <tr>\n",
       "      <th>3</th>\n",
       "      <td>4</td>\n",
       "      <td>B09B8T5VGV</td>\n",
       "      <td>Echo Dot with clock (5th generation, 2022 rele...</td>\n",
       "      <td>4.7</td>\n",
       "      <td>7205</td>\n",
       "      <td>31.99</td>\n",
       "      <td>False</td>\n",
       "      <td>0</td>\n",
       "      <td>Hi-Fi Speakers</td>\n",
       "    </tr>\n",
       "    <tr>\n",
       "      <th>4</th>\n",
       "      <td>5</td>\n",
       "      <td>B09WX6QD65</td>\n",
       "      <td>Introducing Echo Pop | Full sound compact Wi-F...</td>\n",
       "      <td>4.6</td>\n",
       "      <td>1881</td>\n",
       "      <td>17.99</td>\n",
       "      <td>False</td>\n",
       "      <td>0</td>\n",
       "      <td>Hi-Fi Speakers</td>\n",
       "    </tr>\n",
       "  </tbody>\n",
       "</table>\n",
       "</div>"
      ],
      "text/plain": [
       "   uid        asin                                              title  stars  \\\n",
       "0    1  B09B96TG33  Echo Dot (5th generation, 2022 release) | Big ...    4.7   \n",
       "1    2  B01HTH3C8S  Anker Soundcore mini, Super-Portable Bluetooth...    4.7   \n",
       "2    3  B09B8YWXDF  Echo Dot (5th generation, 2022 release) | Big ...    4.7   \n",
       "3    4  B09B8T5VGV  Echo Dot with clock (5th generation, 2022 rele...    4.7   \n",
       "4    5  B09WX6QD65  Introducing Echo Pop | Full sound compact Wi-F...    4.6   \n",
       "\n",
       "   reviews  price  isBestSeller  boughtInLastMonth        category  \n",
       "0    15308  21.99         False                  0  Hi-Fi Speakers  \n",
       "1    98099  23.99          True                  0  Hi-Fi Speakers  \n",
       "2    15308  21.99         False                  0  Hi-Fi Speakers  \n",
       "3     7205  31.99         False                  0  Hi-Fi Speakers  \n",
       "4     1881  17.99         False                  0  Hi-Fi Speakers  "
      ]
     },
     "execution_count": 9,
     "metadata": {},
     "output_type": "execute_result"
    }
   ],
   "source": [
    "df.head()"
   ]
  },
  {
   "cell_type": "code",
   "execution_count": 10,
   "id": "9c948176-eb22-4df0-8a9b-b81e7534d30a",
   "metadata": {},
   "outputs": [
    {
     "data": {
      "text/plain": [
       "uid                    int64\n",
       "asin                  object\n",
       "title                 object\n",
       "stars                float64\n",
       "reviews                int64\n",
       "price                float64\n",
       "isBestSeller            bool\n",
       "boughtInLastMonth      int64\n",
       "category              object\n",
       "dtype: object"
      ]
     },
     "execution_count": 10,
     "metadata": {},
     "output_type": "execute_result"
    }
   ],
   "source": [
    "df.dtypes"
   ]
  },
  {
   "cell_type": "code",
   "execution_count": 11,
   "id": "dbd7b3a7-ff85-4c27-b11b-ed152587e633",
   "metadata": {},
   "outputs": [
    {
     "data": {
      "text/plain": [
       "(2443651, 9)"
      ]
     },
     "execution_count": 11,
     "metadata": {},
     "output_type": "execute_result"
    }
   ],
   "source": [
    "df.shape"
   ]
  },
  {
   "cell_type": "code",
   "execution_count": 13,
   "id": "7787faac-cd26-494e-beb9-88be9a63b142",
   "metadata": {},
   "outputs": [
    {
     "data": {
      "text/plain": [
       "category\n",
       "Sports & Outdoors                         836265\n",
       "Beauty                                     19312\n",
       "Handmade Clothing, Shoes & Accessories     19229\n",
       "Bath & Body                                19092\n",
       "Birthday Gifts                             18978\n",
       "                                           ...  \n",
       "Alexa Built-In Devices                       107\n",
       "Motorbike Chassis                            107\n",
       "Plugs                                        107\n",
       "Smart Home Security & Lighting               104\n",
       "Smart Speakers                                54\n",
       "Name: count, Length: 296, dtype: int64"
      ]
     },
     "execution_count": 13,
     "metadata": {},
     "output_type": "execute_result"
    }
   ],
   "source": [
    "frequency_table = df['category'].value_counts()\n",
    "frequency_table"
   ]
  },
  {
   "cell_type": "markdown",
   "id": "1ddb45d8-4c64-406d-8229-4be1d6bd7b96",
   "metadata": {},
   "source": [
    "The top 5 items: \n",
    "1. Sports & Outdoors\n",
    "2. Beauty\n",
    "3. Handmade Clothing, Shoes & Accessories \n",
    "4. Bath & Body\n",
    "5. Birthday Gifts"
   ]
  },
  {
   "cell_type": "markdown",
   "id": "49dae17f-fd6c-42c7-88b8-39550d2f15d1",
   "metadata": {},
   "source": [
    "**Visualizations**:"
   ]
  },
  {
   "cell_type": "code",
   "execution_count": 27,
   "id": "b39afdaf-910a-4f20-8fe3-096136217e81",
   "metadata": {},
   "outputs": [
    {
     "data": {
      "image/png": "[encoded data removed]",
      "text/plain": [
       "<Figure size 1200x600 with 1 Axes>"
      ]
     },
     "metadata": {},
     "output_type": "display_data"
    }
   ],
   "source": [
    "# Using the top 5 categories from the frequency table\n",
    "top_5_categories = frequency_table.head(5)\n",
    "\n",
    "# The bar plot without palette to avoid the warning\n",
    "plt.figure(figsize=(12, 6))\n",
    "sns.barplot(x=top_5_categories.index, y=top_5_categories.values)\n",
    "plt.title('Top 5 Product Categories')\n",
    "plt.xlabel('Category')\n",
    "plt.ylabel('Count')\n",
    "plt.xticks(rotation=45, ha='right')\n",
    "plt.tight_layout()\n",
    "plt.show()"
   ]
  },
  {
   "cell_type": "markdown",
   "id": "80a6206b-108d-4527-b96a-e4adb4e48250",
   "metadata": {},
   "source": [
    "Part 2: Delving into Product Pricing"
   ]
  },
  {
   "cell_type": "markdown",
   "id": "904c0027-4de6-4af8-8db5-0a3396eb54ad",
   "metadata": {},
   "source": [
    "**Measures of Centrality**:"
   ]
  },
  {
   "cell_type": "code",
   "execution_count": 7,
   "id": "0656bdfd-ca21-4d3b-b890-c449cf43eba8",
   "metadata": {},
   "outputs": [
    {
     "name": "stdout",
     "output_type": "stream",
     "text": [
      "89.24\n"
     ]
    }
   ],
   "source": [
    "mean_price = df['price'].mean()\n",
    "print(f\"{mean_price:.2f}\")"
   ]
  },
  {
   "cell_type": "code",
   "execution_count": 8,
   "id": "604f0241-27dd-40dc-86e4-14424d5ac03a",
   "metadata": {},
   "outputs": [
    {
     "name": "stdout",
     "output_type": "stream",
     "text": [
      "19.09\n"
     ]
    }
   ],
   "source": [
    "median_price = df['price'].median()\n",
    "print(f\"{median_price:.2f}\")"
   ]
  },
  {
   "cell_type": "code",
   "execution_count": 9,
   "id": "130ce7a3-facb-442a-8d05-12fc66d98741",
   "metadata": {},
   "outputs": [
    {
     "name": "stdout",
     "output_type": "stream",
     "text": [
      "9.99\n"
     ]
    }
   ],
   "source": [
    "mode_price = df['price'].mode()[0]\n",
    "print(f\"{mode_price:.2f}\")"
   ]
  },
  {
   "cell_type": "markdown",
   "id": "b66175fc-e592-40f4-b15f-46f7de0bd4c8",
   "metadata": {},
   "source": [
    "The average price of products listed is $89.24. This represents the arithmetic mean of all product prices in Amazon.\n",
    "The most common price point (mode) is $9.99, which is significantly lower than the average price. This creates an interesting comparison that reveals insights about the price distribution:"
   ]
  },
  {
   "cell_type": "markdown",
   "id": "e6a68059-b664-4b6e-871a-0a0321aa2833",
   "metadata": {},
   "source": [
    " **Measures of Dispersion**:"
   ]
  },
  {
   "cell_type": "code",
   "execution_count": 23,
   "id": "997c2f3b-6c1d-45d6-8218-98fbd1d2f916",
   "metadata": {},
   "outputs": [
    {
     "name": "stdout",
     "output_type": "stream",
     "text": [
      "The variance is: 119445.49\n",
      "The standard dev. is: 345.61\n",
      "The range is:  100000.00\n",
      "The 25th percentile is: 9.99\n",
      "The 50th percentile is: 19.09\n",
      "The 75th percentile is: 45.99\n"
     ]
    }
   ],
   "source": [
    "variance_price = df['price'].var()\n",
    "std_dev_price = df['price'].std()\n",
    "min_price = df['price'].min()\n",
    "max_price = df['price'].max()\n",
    "range_price = max_price - min_price\n",
    "quantiles_price = df['price'].quantile([0.25, 0.5, 0.75])\n",
    "\n",
    "\n",
    "print(f\"The variance is: {variance_price:.2f}\")\n",
    "print(f\"The standard dev. is: {std_dev_price:.2f}\")\n",
    "print(f\"The range is: {range_price: .2f}\")\n",
    "print(f\"The 25th percentile is: {quantiles_price[0.25]:.2f}\")\n",
    "print(f\"The 50th percentile is: {quantiles_price[0.5]:.2f}\")\n",
    "print(f\"The 75th percentile is: {quantiles_price[0.75]:.2f}\")"
   ]
  },
  {
   "cell_type": "markdown",
   "id": "fd4b7b00-610f-4a90-ae51-b12f2615d4c2",
   "metadata": {},
   "source": [
    "Based on calculated statistics and data analysis, the products prices show extremely high variation."
   ]
  },
  {
   "cell_type": "markdown",
   "id": "02c06b47-af17-49a8-ac44-baa7e750eb2d",
   "metadata": {},
   "source": [
    "**Visualizations**:"
   ]
  },
  {
   "cell_type": "code",
   "execution_count": 28,
   "id": "28eab488-fd5b-4d69-ad49-e972df089920",
   "metadata": {},
   "outputs": [
    {
     "data": {
      "image/png": "[encoded data removed]",
      "text/plain": [
       "<Figure size 640x480 with 1 Axes>"
      ]
     },
     "metadata": {},
     "output_type": "display_data"
    }
   ],
   "source": [
    "# Histogram to visualize price distribution\n",
    "sns.histplot(df['price'], kde=True, bins=10, color=\"salmon\")\n",
    "plt.show()\n"
   ]
  },
  {
   "cell_type": "markdown",
   "id": "727dfb5e-ae13-4f3e-a675-9eb04088ee80",
   "metadata": {},
   "source": [
    "Based on the histogram, most products fall in the $0-$20 range, with a heavy concentration around the $9.99. The massive spike at the left of your histogram confirms this. The bar to the left represents the majority of products\n",
    "Mode of $9.99 indicates the most common price point"
   ]
  },
  {
   "cell_type": "code",
   "execution_count": 29,
   "id": "5b431fa2-fa53-41b0-9f04-b3f71d8d8300",
   "metadata": {},
   "outputs": [
    {
     "data": {
      "image/png": "[encoded data removed]",
      "text/plain": [
       "<Figure size 640x480 with 1 Axes>"
      ]
     },
     "metadata": {},
     "output_type": "display_data"
    }
   ],
   "source": [
    "# Plotting a boxplot for the 'price' column with a light blue color\n",
    "sns.boxplot(data = df['price'], color=\"lightblue\")\n",
    "plt.show()"
   ]
  },
  {
   "cell_type": "markdown",
   "id": "1fb488ce-a3b5-48c9-8250-0b8fd1b24f37",
   "metadata": {},
   "source": [
    "Yes, there are definitely products priced higher than the rest. The histogram ranging to $100,000 proves this. Any product above the upper whisker (Q3) is an outlier. Products above Q3 are extreme outliers. Products at $100,000+ when most are around $10 shows extreme outliers"
   ]
  },
  {
   "cell_type": "markdown",
   "id": "9f84ada7-8010-4bc0-8137-aa9996598f73",
   "metadata": {},
   "source": [
    "Part 3: Unpacking Product Ratings"
   ]
  },
  {
   "cell_type": "code",
   "execution_count": 30,
   "id": "5214dce1-b000-49a8-afc6-ba4f2fa0ea2a",
   "metadata": {},
   "outputs": [
    {
     "data": {
      "text/plain": [
       "stars\n",
       "0.0    1225641\n",
       "4.5     151577\n",
       "4.6     136995\n",
       "4.4     136165\n",
       "5.0     128492\n",
       "4.3     112564\n",
       "4.7      94566\n",
       "4.2      86871\n",
       "4.0      66089\n",
       "4.1      65115\n",
       "4.8      41858\n",
       "3.9      36555\n",
       "3.8      27876\n",
       "3.7      21137\n",
       "3.6      16219\n",
       "3.5      14673\n",
       "3.0      12819\n",
       "4.9      11081\n",
       "3.4      10355\n",
       "1.0       8484\n",
       "3.3       8269\n",
       "3.2       5771\n",
       "3.1       4679\n",
       "2.0       3901\n",
       "2.9       3341\n",
       "2.8       2306\n",
       "2.7       2104\n",
       "2.5       2103\n",
       "2.6       1579\n",
       "2.4       1060\n",
       "2.3        734\n",
       "2.2        602\n",
       "2.1        540\n",
       "1.5        404\n",
       "1.9        300\n",
       "1.8        249\n",
       "1.7        177\n",
       "1.4        149\n",
       "1.6        147\n",
       "1.3         78\n",
       "1.2         23\n",
       "1.1          3\n",
       "Name: count, dtype: int64"
      ]
     },
     "execution_count": 30,
     "metadata": {},
     "output_type": "execute_result"
    }
   ],
   "source": [
    "#counts of ratings\n",
    "df.stars.value_counts()"
   ]
  },
  {
   "cell_type": "code",
   "execution_count": 33,
   "id": "ea8e00af-44d5-499c-bd8d-15922518d571",
   "metadata": {},
   "outputs": [
    {
     "name": "stdout",
     "output_type": "stream",
     "text": [
      "stars\n",
      "0.0    1225641\n",
      "4.5     151577\n",
      "4.6     136995\n",
      "4.4     136165\n",
      "5.0     128492\n",
      "Name: count, dtype: int64\n"
     ]
    }
   ],
   "source": [
    "# Get the top 5 most frequent ratings\n",
    "top_5_ratings = df.stars.value_counts().head(5)\n",
    "print(top_5_ratings)"
   ]
  },
  {
   "cell_type": "markdown",
   "id": "b49679b6-ec66-467e-b46c-85e1e7632738",
   "metadata": {},
   "source": [
    "There are signs of extreme Polarization with reviews: 97.4% of ratings are either 0 stars or high satisfaction (4.4+ stars)\n",
    "Ratings are zero stars, suggesting significant issues.\n",
    "\n",
    "High-Rating: When satisfied, customers give very high ratings (4.4, 4.5, 4.6) rather than round numbers\n",
    "\n",
    "Missing Middle Ground: The absence of moderate ratings (1-3 stars) suggests UK customers operate on a binary satisfaction model\n",
    "\n",
    "Cultural Directness: UK customers appear to use reviews as both complaint mechanisms and strong recommendation tools\n",
    "\n",
    "This pattern suggests that success on Amazon UK requires exceptional attention to quality control and customer service, as there's very little middle ground between complete customer satisfaction and total disappointment."
   ]
  },
  {
   "cell_type": "code",
   "execution_count": null,
   "id": "f9c8221b-bc3c-4966-aa4a-fed2ceefb93d",
   "metadata": {},
   "outputs": [],
   "source": [
    "**Measures of Centrality**:"
   ]
  },
  {
   "cell_type": "markdown",
   "id": "a2fc24d3-89ed-41f6-872f-e4e5335026c4",
   "metadata": {},
   "source": [
    "mean_rating = df['stars'].mean()\n",
    "print(f\"{mean_rating :.2f}\")"
   ]
  },
  {
   "cell_type": "code",
   "execution_count": 36,
   "id": "606bd947-b456-48b0-b58d-f16251ce3ea9",
   "metadata": {},
   "outputs": [
    {
     "name": "stdout",
     "output_type": "stream",
     "text": [
      "0.00\n"
     ]
    }
   ],
   "source": [
    "median_rating = df['stars'].median()\n",
    "print(f\"{median_rating:.2f}\")"
   ]
  },
  {
   "cell_type": "code",
   "execution_count": 35,
   "id": "414ce138-5e3e-4996-80bc-b743cbd3c8dd",
   "metadata": {},
   "outputs": [
    {
     "name": "stdout",
     "output_type": "stream",
     "text": [
      "0.00\n"
     ]
    }
   ],
   "source": [
    "mode_rating = df['stars'].mode()[0]\n",
    "print(f\"{mode_rating:.2f}\")"
   ]
  },
  {
   "cell_type": "markdown",
   "id": "8cc30e52-b555-4a5f-8f18-54cd24d3937d",
   "metadata": {},
   "source": [
    "**Measures of Dispersion**:"
   ]
  },
  {
   "cell_type": "code",
   "execution_count": 37,
   "id": "82321297-70ac-4b32-8fb5-7ce3aaf41ebe",
   "metadata": {},
   "outputs": [
    {
     "name": "stdout",
     "output_type": "stream",
     "text": [
      "The variance is: 4.82\n",
      "The standard dev. is: 2.19\n",
      "The range is:  5.00\n",
      "The 25th percentile is: 0.00\n",
      "The 50th percentile is: 0.00\n",
      "The 75th percentile is: 4.40\n"
     ]
    }
   ],
   "source": [
    "variance_price = df['stars'].var()\n",
    "std_dev_price = df['stars'].std()\n",
    "min_price = df['stars'].min()\n",
    "max_price = df['stars'].max()\n",
    "range_price = max_price - min_price\n",
    "quantiles_price = df['stars'].quantile([0.25, 0.5, 0.75])\n",
    "\n",
    "\n",
    "print(f\"The variance is: {variance_price:.2f}\")\n",
    "print(f\"The standard dev. is: {std_dev_price:.2f}\")\n",
    "print(f\"The range is: {range_price: .2f}\")\n",
    "print(f\"The 25th percentile is: {quantiles_price[0.25]:.2f}\")\n",
    "print(f\"The 50th percentile is: {quantiles_price[0.5]:.2f}\")\n",
    "print(f\"The 75th percentile is: {quantiles_price[0.75]:.2f}\")"
   ]
  },
  {
   "cell_type": "markdown",
   "id": "c924cce1-520e-47b7-a75e-08dfb058b202",
   "metadata": {},
   "source": [
    "The ratings data shows maximum inconsistency. There is no common trend:\n",
    "\n",
    "Standard Deviation of 2.19 - Extremely high for a 0-5 scale\n",
    "Variance of 4.82 - Indicates massive spread in customer opinions\n",
    "Polarized Distribution - 50% at 0 stars, 25% jump to 4.4+ stars\n",
    "Missing Middle Ground - Very few moderate ratings\n",
    "This level of inconsistency suggests:\n",
    "\n",
    "Product Quality Issues: Wide variation in product quality or delivery experience .  Products either exceed or severely disappoint. UK customers tend to rate in extremes rather than moderately. May include fake reviews, return disputes, or delivery problems\n"
   ]
  },
  {
   "cell_type": "markdown",
   "id": "8d3d4fb5-9dea-4448-98b6-a51bf10bafa1",
   "metadata": {},
   "source": [
    "*Shape of the Distribution**:"
   ]
  },
  {
   "cell_type": "code",
   "execution_count": 38,
   "id": "7b70a0c0-2484-410f-b5da-58837f60948f",
   "metadata": {},
   "outputs": [
    {
     "name": "stdout",
     "output_type": "stream",
     "text": [
      "0.08120735761080881\n",
      "-1.9260061280432994\n"
     ]
    }
   ],
   "source": [
    "skewness_price = df['stars'].skew()\n",
    "kurtosis_price = df['stars'].kurtosis()\n",
    "\n",
    "print(skewness_price)\n",
    "print(kurtosis_price)"
   ]
  },
  {
   "cell_type": "markdown",
   "id": "d2fe27a4-7179-456d-a238-c7615d0c29d0",
   "metadata": {},
   "source": [
    "NO - the ratings are not normally distributed. The kurtosis value of -1.93 indicates a distribution flatter than normal with lighter tails, which significantly deviates from the normal distribution's kurtosis of 0."
   ]
  },
  {
   "cell_type": "markdown",
   "id": "0eb620d3-554e-484b-91a6-d328154783b0",
   "metadata": {},
   "source": [
    "**Visualizations**:"
   ]
  },
  {
   "cell_type": "code",
   "execution_count": 39,
   "id": "75f1ecaf-3019-4711-bff1-eece196eee29",
   "metadata": {},
   "outputs": [
    {
     "data": {
      "image/png": "[encoded data removed]",
      "text/plain": [
       "<Figure size 640x480 with 1 Axes>"
      ]
     },
     "metadata": {},
     "output_type": "display_data"
    }
   ],
   "source": [
    "# Plotting a histogram for the 'stars' column \n",
    "sns.histplot(df['stars'], kde=True, bins=30, color=\"purple\")\n",
    "plt.show()"
   ]
  },
  {
   "cell_type": "markdown",
   "id": "3934473f-b9e1-48c1-82c3-782b89b08149",
   "metadata": {},
   "source": [
    "YES - 0.0 stars is by far the most common rating, dominating your distribution with an overwhelming frequency that dwarfs all other ratings combined. The secondary cluster of high ratings shows that when products work correctly, customers are quite satisfied\n",
    "\n"
   ]
  }
 ],
 "metadata": {
  "kernelspec": {
   "display_name": "ironhack",
   "language": "python",
   "name": "ironhack"
  },
  "language_info": {
   "codemirror_mode": {
    "name": "ipython",
    "version": 3
   },
   "file_extension": ".py",
   "mimetype": "text/x-python",
   "name": "python",
   "nbconvert_exporter": "python",
   "pygments_lexer": "ipython3",
   "version": "3.13.7"
  }
 },
 "nbformat": 4,
 "nbformat_minor": 5
}
